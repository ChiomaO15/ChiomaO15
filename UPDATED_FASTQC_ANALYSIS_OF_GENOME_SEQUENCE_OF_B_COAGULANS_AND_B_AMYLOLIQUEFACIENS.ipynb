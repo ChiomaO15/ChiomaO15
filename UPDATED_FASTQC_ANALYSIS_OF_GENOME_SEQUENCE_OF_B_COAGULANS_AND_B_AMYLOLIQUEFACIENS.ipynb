{
  "nbformat": 4,
  "nbformat_minor": 0,
  "metadata": {
    "colab": {
      "provenance": [],
      "mount_file_id": "19wYW9TUTQS1wJLvowJJp7PB_XWm9QWDk",
      "authorship_tag": "ABX9TyORX6Gedt2BohBRzuGKYlnK",
      "include_colab_link": true
    },
    "kernelspec": {
      "name": "python3",
      "display_name": "Python 3"
    },
    "language_info": {
      "name": "python"
    }
  },
  "cells": [
    {
      "cell_type": "markdown",
      "metadata": {
        "id": "view-in-github",
        "colab_type": "text"
      },
      "source": [
        "<a href=\"https://colab.research.google.com/github/ChiomaO15/ChiomaO15/blob/main/UPDATED_FASTQC_ANALYSIS_OF_GENOME_SEQUENCE_OF_B_COAGULANS_AND_B_AMYLOLIQUEFACIENS.ipynb\" target=\"_parent\"><img src=\"https://colab.research.google.com/assets/colab-badge.svg\" alt=\"Open In Colab\"/></a>"
      ]
    },
    {
      "cell_type": "markdown",
      "source": [
        "**INSTALLATION OF TOOLS**"
      ],
      "metadata": {
        "id": "vKi9mwbDusqE"
      }
    },
    {
      "cell_type": "code",
      "execution_count": 1,
      "metadata": {
        "id": "few9b6s11WAz",
        "colab": {
          "base_uri": "https://localhost:8080/"
        },
        "outputId": "ea93c23f-4f00-40e5-831c-06227e63bb6d"
      },
      "outputs": [
        {
          "output_type": "stream",
          "name": "stdout",
          "text": [
            "Hit:1 http://archive.ubuntu.com/ubuntu jammy InRelease\n",
            "Get:2 http://archive.ubuntu.com/ubuntu jammy-updates InRelease [128 kB]\n",
            "Get:3 http://archive.ubuntu.com/ubuntu jammy-backports InRelease [127 kB]\n",
            "Get:4 http://security.ubuntu.com/ubuntu jammy-security InRelease [129 kB]\n",
            "Hit:5 https://developer.download.nvidia.com/compute/cuda/repos/ubuntu2204/x86_64  InRelease\n",
            "Get:6 https://cloud.r-project.org/bin/linux/ubuntu jammy-cran40/ InRelease [3,626 B]\n",
            "Get:7 https://r2u.stat.illinois.edu/ubuntu jammy InRelease [6,555 B]\n",
            "Hit:8 https://ppa.launchpadcontent.net/deadsnakes/ppa/ubuntu jammy InRelease\n",
            "Hit:9 https://ppa.launchpadcontent.net/graphics-drivers/ppa/ubuntu jammy InRelease\n",
            "Hit:10 https://ppa.launchpadcontent.net/ubuntugis/ppa/ubuntu jammy InRelease\n",
            "Get:11 http://archive.ubuntu.com/ubuntu jammy-updates/main amd64 Packages [2,672 kB]\n",
            "Get:12 http://archive.ubuntu.com/ubuntu jammy-updates/universe amd64 Packages [1,452 kB]\n",
            "Get:13 http://archive.ubuntu.com/ubuntu jammy-updates/restricted amd64 Packages [3,319 kB]\n",
            "Get:14 https://r2u.stat.illinois.edu/ubuntu jammy/main amd64 Packages [2,611 kB]\n",
            "Get:15 https://r2u.stat.illinois.edu/ubuntu jammy/main all Packages [8,449 kB]\n",
            "Get:16 http://security.ubuntu.com/ubuntu jammy-security/universe amd64 Packages [1,163 kB]\n",
            "Get:17 http://security.ubuntu.com/ubuntu jammy-security/main amd64 Packages [2,397 kB]\n",
            "Get:18 http://security.ubuntu.com/ubuntu jammy-security/restricted amd64 Packages [3,241 kB]\n",
            "Fetched 25.7 MB in 8s (3,325 kB/s)\n",
            "Reading package lists... Done\n",
            "Building dependency tree... Done\n",
            "Reading state information... Done\n",
            "51 packages can be upgraded. Run 'apt list --upgradable' to see them.\n",
            "\u001b[1;33mW: \u001b[0mSkipping acquire of configured file 'main/source/Sources' as repository 'https://r2u.stat.illinois.edu/ubuntu jammy InRelease' does not seem to provide it (sources.list entry misspelt?)\u001b[0m\n",
            "Reading package lists... Done\n",
            "Building dependency tree... Done\n",
            "Reading state information... Done\n",
            "The following additional packages will be installed:\n",
            "  blends-common libkdf5-2 libncbi-vdb2 libncbi-wvdb2 med-config menu\n",
            "Suggested packages:\n",
            "  blends-doc menu-l10n gksu | kde-runtime | ktsuss\n",
            "The following NEW packages will be installed:\n",
            "  blends-common libkdf5-2 libncbi-vdb2 libncbi-wvdb2 med-config menu\n",
            "  sra-toolkit\n",
            "0 upgraded, 7 newly installed, 0 to remove and 51 not upgraded.\n",
            "Need to get 8,290 kB of archives.\n",
            "After this operation, 23.0 MB of additional disk space will be used.\n",
            "Get:1 http://archive.ubuntu.com/ubuntu jammy/universe amd64 menu amd64 2.1.47ubuntu4 [354 kB]\n",
            "Get:2 http://archive.ubuntu.com/ubuntu jammy/universe amd64 blends-common all 0.7.4ubuntu1 [15.9 kB]\n",
            "Get:3 http://archive.ubuntu.com/ubuntu jammy/universe amd64 libkdf5-2 amd64 2.11.2+dfsg-4build2 [14.7 kB]\n",
            "Get:4 http://archive.ubuntu.com/ubuntu jammy/universe amd64 libncbi-vdb2 amd64 2.11.2+dfsg-4build2 [1,364 kB]\n",
            "Get:5 http://archive.ubuntu.com/ubuntu jammy/universe amd64 libncbi-wvdb2 amd64 2.11.2+dfsg-4build2 [1,252 kB]\n",
            "Get:6 http://archive.ubuntu.com/ubuntu jammy/universe amd64 sra-toolkit amd64 2.11.3+dfsg-1ubuntu1 [5,277 kB]\n",
            "Get:7 http://archive.ubuntu.com/ubuntu jammy/universe amd64 med-config all 3.7.1 [11.6 kB]\n",
            "Fetched 8,290 kB in 1s (7,955 kB/s)\n",
            "debconf: unable to initialize frontend: Dialog\n",
            "debconf: (No usable dialog-like program is installed, so the dialog based frontend cannot be used. at /usr/share/perl5/Debconf/FrontEnd/Dialog.pm line 78, <> line 7.)\n",
            "debconf: falling back to frontend: Readline\n",
            "debconf: unable to initialize frontend: Readline\n",
            "debconf: (This frontend requires a controlling tty.)\n",
            "debconf: falling back to frontend: Teletype\n",
            "dpkg-preconfigure: unable to re-open stdin: \n",
            "Selecting previously unselected package menu.\n",
            "(Reading database ... 123623 files and directories currently installed.)\n",
            "Preparing to unpack .../0-menu_2.1.47ubuntu4_amd64.deb ...\n",
            "Unpacking menu (2.1.47ubuntu4) ...\n",
            "Selecting previously unselected package blends-common.\n",
            "Preparing to unpack .../1-blends-common_0.7.4ubuntu1_all.deb ...\n",
            "Unpacking blends-common (0.7.4ubuntu1) ...\n",
            "Selecting previously unselected package libkdf5-2.\n",
            "Preparing to unpack .../2-libkdf5-2_2.11.2+dfsg-4build2_amd64.deb ...\n",
            "Unpacking libkdf5-2 (2.11.2+dfsg-4build2) ...\n",
            "Selecting previously unselected package libncbi-vdb2.\n",
            "Preparing to unpack .../3-libncbi-vdb2_2.11.2+dfsg-4build2_amd64.deb ...\n",
            "Unpacking libncbi-vdb2 (2.11.2+dfsg-4build2) ...\n",
            "Selecting previously unselected package libncbi-wvdb2.\n",
            "Preparing to unpack .../4-libncbi-wvdb2_2.11.2+dfsg-4build2_amd64.deb ...\n",
            "Unpacking libncbi-wvdb2 (2.11.2+dfsg-4build2) ...\n",
            "Selecting previously unselected package sra-toolkit.\n",
            "Preparing to unpack .../5-sra-toolkit_2.11.3+dfsg-1ubuntu1_amd64.deb ...\n",
            "Unpacking sra-toolkit (2.11.3+dfsg-1ubuntu1) ...\n",
            "Selecting previously unselected package med-config.\n",
            "Preparing to unpack .../6-med-config_3.7.1_all.deb ...\n",
            "Unpacking med-config (3.7.1) ...\n",
            "Setting up libncbi-vdb2 (2.11.2+dfsg-4build2) ...\n",
            "Setting up libkdf5-2 (2.11.2+dfsg-4build2) ...\n",
            "Setting up libncbi-wvdb2 (2.11.2+dfsg-4build2) ...\n",
            "Setting up menu (2.1.47ubuntu4) ...\n",
            "Setting up blends-common (0.7.4ubuntu1) ...\n",
            "Setting up sra-toolkit (2.11.3+dfsg-1ubuntu1) ...\n",
            "Setting up med-config (3.7.1) ...\n",
            "debconf: unable to initialize frontend: Dialog\n",
            "debconf: (No usable dialog-like program is installed, so the dialog based frontend cannot be used. at /usr/share/perl5/Debconf/FrontEnd/Dialog.pm line 78.)\n",
            "debconf: falling back to frontend: Readline\n",
            "Adding group `med' (GID 107) ...\n",
            "Done.\n",
            "Processing triggers for man-db (2.10.2-1) ...\n",
            "Processing triggers for libc-bin (2.35-0ubuntu3.4) ...\n",
            "/sbin/ldconfig.real: /usr/local/lib/libtbbbind_2_0.so.3 is not a symbolic link\n",
            "\n",
            "/sbin/ldconfig.real: /usr/local/lib/libtcm_debug.so.1 is not a symbolic link\n",
            "\n",
            "/sbin/ldconfig.real: /usr/local/lib/libtbbbind.so.3 is not a symbolic link\n",
            "\n",
            "/sbin/ldconfig.real: /usr/local/lib/libtbb.so.12 is not a symbolic link\n",
            "\n",
            "/sbin/ldconfig.real: /usr/local/lib/libtbbbind_2_5.so.3 is not a symbolic link\n",
            "\n",
            "/sbin/ldconfig.real: /usr/local/lib/libtcm.so.1 is not a symbolic link\n",
            "\n",
            "/sbin/ldconfig.real: /usr/local/lib/libur_loader.so.0 is not a symbolic link\n",
            "\n",
            "/sbin/ldconfig.real: /usr/local/lib/libhwloc.so.15 is not a symbolic link\n",
            "\n",
            "/sbin/ldconfig.real: /usr/local/lib/libur_adapter_opencl.so.0 is not a symbolic link\n",
            "\n",
            "/sbin/ldconfig.real: /usr/local/lib/libtbbmalloc.so.2 is not a symbolic link\n",
            "\n",
            "/sbin/ldconfig.real: /usr/local/lib/libur_adapter_level_zero.so.0 is not a symbolic link\n",
            "\n",
            "/sbin/ldconfig.real: /usr/local/lib/libumf.so.0 is not a symbolic link\n",
            "\n",
            "/sbin/ldconfig.real: /usr/local/lib/libtbbmalloc_proxy.so.2 is not a symbolic link\n",
            "\n",
            "Processing triggers for menu (2.1.47ubuntu4) ...\n"
          ]
        }
      ],
      "source": [
        "# Install SRA Toolkit\n",
        "!sudo apt update\n",
        "!sudo apt install -y sra-toolkit\n"
      ]
    },
    {
      "cell_type": "code",
      "source": [
        "from google.colab import drive\n",
        "drive.mount('/content/drive')"
      ],
      "metadata": {
        "colab": {
          "base_uri": "https://localhost:8080/"
        },
        "id": "PH_kTK3eokDB",
        "outputId": "2cfb21d3-b4a4-45ca-c29a-352df4f3fc90"
      },
      "execution_count": 2,
      "outputs": [
        {
          "output_type": "stream",
          "name": "stdout",
          "text": [
            "Drive already mounted at /content/drive; to attempt to forcibly remount, call drive.mount(\"/content/drive\", force_remount=True).\n"
          ]
        }
      ]
    },
    {
      "cell_type": "markdown",
      "source": [
        "**USE FASTERQ-DUMP TO  DOWNLOAD AND CONVERT SRA TO FASTQ**"
      ],
      "metadata": {
        "id": "RAljn2IEvOxA"
      }
    },
    {
      "cell_type": "code",
      "source": [
        "\n",
        "!fasterq-dump SRR22994913 --split-files -O ./output/\n",
        "!fasterq-dump SRR14065983 --split-files -O ./output/"
      ],
      "metadata": {
        "colab": {
          "base_uri": "https://localhost:8080/"
        },
        "id": "wRFzVet6otox",
        "outputId": "e7fd6704-f9c6-4528-f6b3-bb523a469215"
      },
      "execution_count": 3,
      "outputs": [
        {
          "output_type": "stream",
          "name": "stdout",
          "text": [
            "spots read      : 4,041,551\n",
            "reads read      : 8,083,102\n",
            "reads written   : 8,083,102\n",
            "spots read      : 7,851,896\n",
            "reads read      : 15,703,792\n",
            "reads written   : 15,703,792\n"
          ]
        }
      ]
    },
    {
      "cell_type": "code",
      "source": [
        "!ls"
      ],
      "metadata": {
        "colab": {
          "base_uri": "https://localhost:8080/"
        },
        "id": "_QGqmuIWo5FF",
        "outputId": "fa4eff36-2bcf-468d-9c19-185d53ed8626"
      },
      "execution_count": 4,
      "outputs": [
        {
          "output_type": "stream",
          "name": "stdout",
          "text": [
            "drive  output  sample_data\n"
          ]
        }
      ]
    },
    {
      "cell_type": "code",
      "source": [
        "!mkdir -p ./fastqc_results"
      ],
      "metadata": {
        "id": "CqnOdZOoo_pc"
      },
      "execution_count": 5,
      "outputs": []
    },
    {
      "cell_type": "markdown",
      "source": [
        "**INSTALL FASTQC**"
      ],
      "metadata": {
        "id": "2kegYeR-vino"
      }
    },
    {
      "cell_type": "code",
      "source": [
        "\n",
        "!sudo apt install -y fastqc"
      ],
      "metadata": {
        "colab": {
          "base_uri": "https://localhost:8080/"
        },
        "id": "RI5dMdD3pDAk",
        "outputId": "d31cb602-9bc1-43ed-bea4-4bdaf03dd2de"
      },
      "execution_count": 6,
      "outputs": [
        {
          "output_type": "stream",
          "name": "stdout",
          "text": [
            "Reading package lists... Done\n",
            "Building dependency tree... Done\n",
            "Reading state information... Done\n",
            "The following additional packages will be installed:\n",
            "  default-jre default-jre-headless fonts-dejavu-core fonts-dejavu-extra\n",
            "  libapache-pom-java libargs4j-java libatk-wrapper-java\n",
            "  libatk-wrapper-java-jni libcommons-compress-java libcommons-io-java\n",
            "  libcommons-jexl2-java libcommons-lang3-java libcommons-logging-java\n",
            "  libcommons-math3-java libcommons-parent-java libfindbin-libs-perl\n",
            "  libfontenc1 libhtsjdk-java libjbzip2-java libjson-simple-java libngs-java\n",
            "  libngs-sdk-dev libngs-sdk2 libsis-base-java libsis-base-jni\n",
            "  libsis-jhdf5-java libsis-jhdf5-jni libsnappy-java libsnappy-jni libxkbfile1\n",
            "  libxtst6 libxxf86dga1 openjdk-11-jre x11-utils\n",
            "Suggested packages:\n",
            "  libxz-java libcommons-io-java-doc libcommons-lang3-java-doc\n",
            "  libavalon-framework-java libcommons-logging-java-doc\n",
            "  libexcalibur-logkit-java liblog4j1.2-java picard-tools libjson-simple-doc\n",
            "  mesa-utils\n",
            "The following NEW packages will be installed:\n",
            "  default-jre default-jre-headless fastqc fonts-dejavu-core fonts-dejavu-extra\n",
            "  libapache-pom-java libargs4j-java libatk-wrapper-java\n",
            "  libatk-wrapper-java-jni libcommons-compress-java libcommons-io-java\n",
            "  libcommons-jexl2-java libcommons-lang3-java libcommons-logging-java\n",
            "  libcommons-math3-java libcommons-parent-java libfindbin-libs-perl\n",
            "  libfontenc1 libhtsjdk-java libjbzip2-java libjson-simple-java libngs-java\n",
            "  libngs-sdk-dev libngs-sdk2 libsis-base-java libsis-base-jni\n",
            "  libsis-jhdf5-java libsis-jhdf5-jni libsnappy-java libsnappy-jni libxkbfile1\n",
            "  libxtst6 libxxf86dga1 openjdk-11-jre x11-utils\n",
            "0 upgraded, 35 newly installed, 0 to remove and 51 not upgraded.\n",
            "Need to get 11.8 MB of archives.\n",
            "After this operation, 24.8 MB of additional disk space will be used.\n",
            "Get:1 http://archive.ubuntu.com/ubuntu jammy/main amd64 default-jre-headless amd64 2:1.11-72build2 [3,042 B]\n",
            "Get:2 http://archive.ubuntu.com/ubuntu jammy/main amd64 libxtst6 amd64 2:1.2.3-1build4 [13.4 kB]\n",
            "Get:3 http://archive.ubuntu.com/ubuntu jammy-updates/main amd64 openjdk-11-jre amd64 11.0.24+8-1ubuntu3~22.04 [214 kB]\n",
            "Get:4 http://archive.ubuntu.com/ubuntu jammy/main amd64 default-jre amd64 2:1.11-72build2 [896 B]\n",
            "Get:5 http://archive.ubuntu.com/ubuntu jammy/universe amd64 libcommons-math3-java all 3.6.1-3 [2,016 kB]\n",
            "Get:6 http://archive.ubuntu.com/ubuntu jammy/universe amd64 libjbzip2-java all 0.9.1-7 [42.8 kB]\n",
            "Get:7 http://archive.ubuntu.com/ubuntu jammy/universe amd64 libapache-pom-java all 18-1 [4,720 B]\n",
            "Get:8 http://archive.ubuntu.com/ubuntu jammy/universe amd64 libcommons-parent-java all 43-1 [10.8 kB]\n",
            "Get:9 http://archive.ubuntu.com/ubuntu jammy/universe amd64 libcommons-compress-java all 1.21-1 [575 kB]\n",
            "Get:10 http://archive.ubuntu.com/ubuntu jammy/universe amd64 libcommons-logging-java all 1.2-2 [60.3 kB]\n",
            "Get:11 http://archive.ubuntu.com/ubuntu jammy/universe amd64 libcommons-jexl2-java all 2.1.1-5 [251 kB]\n",
            "Get:12 http://archive.ubuntu.com/ubuntu jammy/universe amd64 libjson-simple-java all 2.3.0-1 [61.0 kB]\n",
            "Get:13 http://archive.ubuntu.com/ubuntu jammy/universe amd64 libngs-sdk2 amd64 2.11.2-3 [65.6 kB]\n",
            "Get:14 http://archive.ubuntu.com/ubuntu jammy/universe amd64 libngs-sdk-dev amd64 2.11.2-3 [111 kB]\n",
            "Get:15 http://archive.ubuntu.com/ubuntu jammy/universe amd64 libngs-java amd64 2.11.2-3 [75.8 kB]\n",
            "Get:16 http://archive.ubuntu.com/ubuntu jammy/universe amd64 libsnappy-jni amd64 1.1.8.3-1 [6,756 B]\n",
            "Get:17 http://archive.ubuntu.com/ubuntu jammy/universe amd64 libsnappy-java all 1.1.8.3-1 [93.9 kB]\n",
            "Get:18 http://archive.ubuntu.com/ubuntu jammy/universe amd64 libhtsjdk-java all 2.24.1+dfsg-1 [1,644 kB]\n",
            "Get:19 http://archive.ubuntu.com/ubuntu jammy/universe amd64 libfindbin-libs-perl all 2.190.02-1 [23.2 kB]\n",
            "Get:20 http://archive.ubuntu.com/ubuntu jammy/universe amd64 libargs4j-java all 2.33-1.1 [137 kB]\n",
            "Get:21 http://archive.ubuntu.com/ubuntu jammy/universe amd64 libcommons-io-java all 2.11.0-2 [297 kB]\n",
            "Get:22 http://archive.ubuntu.com/ubuntu jammy/universe amd64 libcommons-lang3-java all 3.11-1 [526 kB]\n",
            "Get:23 http://archive.ubuntu.com/ubuntu jammy/universe amd64 libsis-base-jni amd64 18.09~pre1+git20180928.45fbd31+dfsg-3 [12.7 kB]\n",
            "Get:24 http://archive.ubuntu.com/ubuntu jammy/universe amd64 libsis-base-java all 18.09~pre1+git20180928.45fbd31+dfsg-3 [96.4 kB]\n",
            "Get:25 http://archive.ubuntu.com/ubuntu jammy/universe amd64 libsis-jhdf5-jni amd64 19.04.0+dfsg-4 [96.6 kB]\n",
            "Get:26 http://archive.ubuntu.com/ubuntu jammy/universe amd64 libsis-jhdf5-java all 19.04.0+dfsg-4 [1,490 kB]\n",
            "Get:27 http://archive.ubuntu.com/ubuntu jammy/universe amd64 fastqc all 0.11.9+dfsg-5 [370 kB]\n",
            "Get:28 http://archive.ubuntu.com/ubuntu jammy/main amd64 fonts-dejavu-core all 2.37-2build1 [1,041 kB]\n",
            "Get:29 http://archive.ubuntu.com/ubuntu jammy/main amd64 fonts-dejavu-extra all 2.37-2build1 [2,041 kB]\n",
            "Get:30 http://archive.ubuntu.com/ubuntu jammy/main amd64 libfontenc1 amd64 1:1.1.4-1build3 [14.7 kB]\n",
            "Get:31 http://archive.ubuntu.com/ubuntu jammy/main amd64 libxkbfile1 amd64 1:1.1.0-1build3 [71.8 kB]\n",
            "Get:32 http://archive.ubuntu.com/ubuntu jammy/main amd64 libxxf86dga1 amd64 2:1.1.5-0ubuntu3 [12.6 kB]\n",
            "Get:33 http://archive.ubuntu.com/ubuntu jammy/main amd64 x11-utils amd64 7.7+5build2 [206 kB]\n",
            "Get:34 http://archive.ubuntu.com/ubuntu jammy/main amd64 libatk-wrapper-java all 0.38.0-5build1 [53.1 kB]\n",
            "Get:35 http://archive.ubuntu.com/ubuntu jammy/main amd64 libatk-wrapper-java-jni amd64 0.38.0-5build1 [49.0 kB]\n",
            "Fetched 11.8 MB in 0s (36.2 MB/s)\n",
            "debconf: unable to initialize frontend: Dialog\n",
            "debconf: (No usable dialog-like program is installed, so the dialog based frontend cannot be used. at /usr/share/perl5/Debconf/FrontEnd/Dialog.pm line 78, <> line 35.)\n",
            "debconf: falling back to frontend: Readline\n",
            "debconf: unable to initialize frontend: Readline\n",
            "debconf: (This frontend requires a controlling tty.)\n",
            "debconf: falling back to frontend: Teletype\n",
            "dpkg-preconfigure: unable to re-open stdin: \n",
            "Selecting previously unselected package default-jre-headless.\n",
            "(Reading database ... 123973 files and directories currently installed.)\n",
            "Preparing to unpack .../00-default-jre-headless_2%3a1.11-72build2_amd64.deb ...\n",
            "Unpacking default-jre-headless (2:1.11-72build2) ...\n",
            "Selecting previously unselected package libxtst6:amd64.\n",
            "Preparing to unpack .../01-libxtst6_2%3a1.2.3-1build4_amd64.deb ...\n",
            "Unpacking libxtst6:amd64 (2:1.2.3-1build4) ...\n",
            "Selecting previously unselected package openjdk-11-jre:amd64.\n",
            "Preparing to unpack .../02-openjdk-11-jre_11.0.24+8-1ubuntu3~22.04_amd64.deb ...\n",
            "Unpacking openjdk-11-jre:amd64 (11.0.24+8-1ubuntu3~22.04) ...\n",
            "Selecting previously unselected package default-jre.\n",
            "Preparing to unpack .../03-default-jre_2%3a1.11-72build2_amd64.deb ...\n",
            "Unpacking default-jre (2:1.11-72build2) ...\n",
            "Selecting previously unselected package libcommons-math3-java.\n",
            "Preparing to unpack .../04-libcommons-math3-java_3.6.1-3_all.deb ...\n",
            "Unpacking libcommons-math3-java (3.6.1-3) ...\n",
            "Selecting previously unselected package libjbzip2-java.\n",
            "Preparing to unpack .../05-libjbzip2-java_0.9.1-7_all.deb ...\n",
            "Unpacking libjbzip2-java (0.9.1-7) ...\n",
            "Selecting previously unselected package libapache-pom-java.\n",
            "Preparing to unpack .../06-libapache-pom-java_18-1_all.deb ...\n",
            "Unpacking libapache-pom-java (18-1) ...\n",
            "Selecting previously unselected package libcommons-parent-java.\n",
            "Preparing to unpack .../07-libcommons-parent-java_43-1_all.deb ...\n",
            "Unpacking libcommons-parent-java (43-1) ...\n",
            "Selecting previously unselected package libcommons-compress-java.\n",
            "Preparing to unpack .../08-libcommons-compress-java_1.21-1_all.deb ...\n",
            "Unpacking libcommons-compress-java (1.21-1) ...\n",
            "Selecting previously unselected package libcommons-logging-java.\n",
            "Preparing to unpack .../09-libcommons-logging-java_1.2-2_all.deb ...\n",
            "Unpacking libcommons-logging-java (1.2-2) ...\n",
            "Selecting previously unselected package libcommons-jexl2-java.\n",
            "Preparing to unpack .../10-libcommons-jexl2-java_2.1.1-5_all.deb ...\n",
            "Unpacking libcommons-jexl2-java (2.1.1-5) ...\n",
            "Selecting previously unselected package libjson-simple-java.\n",
            "Preparing to unpack .../11-libjson-simple-java_2.3.0-1_all.deb ...\n",
            "Unpacking libjson-simple-java (2.3.0-1) ...\n",
            "Selecting previously unselected package libngs-sdk2:amd64.\n",
            "Preparing to unpack .../12-libngs-sdk2_2.11.2-3_amd64.deb ...\n",
            "Unpacking libngs-sdk2:amd64 (2.11.2-3) ...\n",
            "Selecting previously unselected package libngs-sdk-dev:amd64.\n",
            "Preparing to unpack .../13-libngs-sdk-dev_2.11.2-3_amd64.deb ...\n",
            "Unpacking libngs-sdk-dev:amd64 (2.11.2-3) ...\n",
            "Selecting previously unselected package libngs-java:amd64.\n",
            "Preparing to unpack .../14-libngs-java_2.11.2-3_amd64.deb ...\n",
            "Unpacking libngs-java:amd64 (2.11.2-3) ...\n",
            "Selecting previously unselected package libsnappy-jni.\n",
            "Preparing to unpack .../15-libsnappy-jni_1.1.8.3-1_amd64.deb ...\n",
            "Unpacking libsnappy-jni (1.1.8.3-1) ...\n",
            "Selecting previously unselected package libsnappy-java.\n",
            "Preparing to unpack .../16-libsnappy-java_1.1.8.3-1_all.deb ...\n",
            "Unpacking libsnappy-java (1.1.8.3-1) ...\n",
            "Selecting previously unselected package libhtsjdk-java.\n",
            "Preparing to unpack .../17-libhtsjdk-java_2.24.1+dfsg-1_all.deb ...\n",
            "Unpacking libhtsjdk-java (2.24.1+dfsg-1) ...\n",
            "Selecting previously unselected package libfindbin-libs-perl.\n",
            "Preparing to unpack .../18-libfindbin-libs-perl_2.190.02-1_all.deb ...\n",
            "Unpacking libfindbin-libs-perl (2.190.02-1) ...\n",
            "Selecting previously unselected package libargs4j-java.\n",
            "Preparing to unpack .../19-libargs4j-java_2.33-1.1_all.deb ...\n",
            "Unpacking libargs4j-java (2.33-1.1) ...\n",
            "Selecting previously unselected package libcommons-io-java.\n",
            "Preparing to unpack .../20-libcommons-io-java_2.11.0-2_all.deb ...\n",
            "Unpacking libcommons-io-java (2.11.0-2) ...\n",
            "Selecting previously unselected package libcommons-lang3-java.\n",
            "Preparing to unpack .../21-libcommons-lang3-java_3.11-1_all.deb ...\n",
            "Unpacking libcommons-lang3-java (3.11-1) ...\n",
            "Selecting previously unselected package libsis-base-jni.\n",
            "Preparing to unpack .../22-libsis-base-jni_18.09~pre1+git20180928.45fbd31+dfsg-3_amd64.deb ...\n",
            "Unpacking libsis-base-jni (18.09~pre1+git20180928.45fbd31+dfsg-3) ...\n",
            "Selecting previously unselected package libsis-base-java.\n",
            "Preparing to unpack .../23-libsis-base-java_18.09~pre1+git20180928.45fbd31+dfsg-3_all.deb ...\n",
            "Unpacking libsis-base-java (18.09~pre1+git20180928.45fbd31+dfsg-3) ...\n",
            "Selecting previously unselected package libsis-jhdf5-jni.\n",
            "Preparing to unpack .../24-libsis-jhdf5-jni_19.04.0+dfsg-4_amd64.deb ...\n",
            "Unpacking libsis-jhdf5-jni (19.04.0+dfsg-4) ...\n",
            "Selecting previously unselected package libsis-jhdf5-java.\n",
            "Preparing to unpack .../25-libsis-jhdf5-java_19.04.0+dfsg-4_all.deb ...\n",
            "Unpacking libsis-jhdf5-java (19.04.0+dfsg-4) ...\n",
            "Selecting previously unselected package fastqc.\n",
            "Preparing to unpack .../26-fastqc_0.11.9+dfsg-5_all.deb ...\n",
            "Unpacking fastqc (0.11.9+dfsg-5) ...\n",
            "Selecting previously unselected package fonts-dejavu-core.\n",
            "Preparing to unpack .../27-fonts-dejavu-core_2.37-2build1_all.deb ...\n",
            "Unpacking fonts-dejavu-core (2.37-2build1) ...\n",
            "Selecting previously unselected package fonts-dejavu-extra.\n",
            "Preparing to unpack .../28-fonts-dejavu-extra_2.37-2build1_all.deb ...\n",
            "Unpacking fonts-dejavu-extra (2.37-2build1) ...\n",
            "Selecting previously unselected package libfontenc1:amd64.\n",
            "Preparing to unpack .../29-libfontenc1_1%3a1.1.4-1build3_amd64.deb ...\n",
            "Unpacking libfontenc1:amd64 (1:1.1.4-1build3) ...\n",
            "Selecting previously unselected package libxkbfile1:amd64.\n",
            "Preparing to unpack .../30-libxkbfile1_1%3a1.1.0-1build3_amd64.deb ...\n",
            "Unpacking libxkbfile1:amd64 (1:1.1.0-1build3) ...\n",
            "Selecting previously unselected package libxxf86dga1:amd64.\n",
            "Preparing to unpack .../31-libxxf86dga1_2%3a1.1.5-0ubuntu3_amd64.deb ...\n",
            "Unpacking libxxf86dga1:amd64 (2:1.1.5-0ubuntu3) ...\n",
            "Selecting previously unselected package x11-utils.\n",
            "Preparing to unpack .../32-x11-utils_7.7+5build2_amd64.deb ...\n",
            "Unpacking x11-utils (7.7+5build2) ...\n",
            "Selecting previously unselected package libatk-wrapper-java.\n",
            "Preparing to unpack .../33-libatk-wrapper-java_0.38.0-5build1_all.deb ...\n",
            "Unpacking libatk-wrapper-java (0.38.0-5build1) ...\n",
            "Selecting previously unselected package libatk-wrapper-java-jni:amd64.\n",
            "Preparing to unpack .../34-libatk-wrapper-java-jni_0.38.0-5build1_amd64.deb ...\n",
            "Unpacking libatk-wrapper-java-jni:amd64 (0.38.0-5build1) ...\n",
            "Setting up default-jre-headless (2:1.11-72build2) ...\n",
            "Setting up libxtst6:amd64 (2:1.2.3-1build4) ...\n",
            "Setting up libngs-sdk2:amd64 (2.11.2-3) ...\n",
            "Setting up libxxf86dga1:amd64 (2:1.1.5-0ubuntu3) ...\n",
            "Setting up openjdk-11-jre:amd64 (11.0.24+8-1ubuntu3~22.04) ...\n",
            "Setting up libfindbin-libs-perl (2.190.02-1) ...\n",
            "Setting up default-jre (2:1.11-72build2) ...\n",
            "Setting up libjson-simple-java (2.3.0-1) ...\n",
            "Setting up libsis-base-jni (18.09~pre1+git20180928.45fbd31+dfsg-3) ...\n",
            "Setting up libfontenc1:amd64 (1:1.1.4-1build3) ...\n",
            "Setting up libapache-pom-java (18-1) ...\n",
            "Setting up fonts-dejavu-core (2.37-2build1) ...\n",
            "Setting up libjbzip2-java (0.9.1-7) ...\n",
            "Setting up libngs-sdk-dev:amd64 (2.11.2-3) ...\n",
            "Setting up fonts-dejavu-extra (2.37-2build1) ...\n",
            "Setting up libcommons-math3-java (3.6.1-3) ...\n",
            "Setting up libsis-jhdf5-jni (19.04.0+dfsg-4) ...\n",
            "Setting up libxkbfile1:amd64 (1:1.1.0-1build3) ...\n",
            "Setting up libngs-java:amd64 (2.11.2-3) ...\n",
            "Setting up libsnappy-jni (1.1.8.3-1) ...\n",
            "Setting up libargs4j-java (2.33-1.1) ...\n",
            "Setting up libcommons-parent-java (43-1) ...\n",
            "Setting up libcommons-logging-java (1.2-2) ...\n",
            "Setting up libcommons-jexl2-java (2.1.1-5) ...\n",
            "Setting up libcommons-lang3-java (3.11-1) ...\n",
            "Setting up x11-utils (7.7+5build2) ...\n",
            "Setting up libsnappy-java (1.1.8.3-1) ...\n",
            "Setting up libatk-wrapper-java (0.38.0-5build1) ...\n",
            "Setting up libcommons-compress-java (1.21-1) ...\n",
            "Setting up libcommons-io-java (2.11.0-2) ...\n",
            "Setting up libatk-wrapper-java-jni:amd64 (0.38.0-5build1) ...\n",
            "Setting up libsis-base-java (18.09~pre1+git20180928.45fbd31+dfsg-3) ...\n",
            "Setting up libhtsjdk-java (2.24.1+dfsg-1) ...\n",
            "Setting up libsis-jhdf5-java (19.04.0+dfsg-4) ...\n",
            "Setting up fastqc (0.11.9+dfsg-5) ...\n",
            "Processing triggers for man-db (2.10.2-1) ...\n",
            "Processing triggers for menu (2.1.47ubuntu4) ...\n",
            "Processing triggers for fontconfig (2.13.1-4.2ubuntu5) ...\n",
            "Processing triggers for hicolor-icon-theme (0.17-2) ...\n",
            "Processing triggers for libc-bin (2.35-0ubuntu3.4) ...\n",
            "/sbin/ldconfig.real: /usr/local/lib/libtbbbind_2_0.so.3 is not a symbolic link\n",
            "\n",
            "/sbin/ldconfig.real: /usr/local/lib/libtcm_debug.so.1 is not a symbolic link\n",
            "\n",
            "/sbin/ldconfig.real: /usr/local/lib/libtbbbind.so.3 is not a symbolic link\n",
            "\n",
            "/sbin/ldconfig.real: /usr/local/lib/libtbb.so.12 is not a symbolic link\n",
            "\n",
            "/sbin/ldconfig.real: /usr/local/lib/libtbbbind_2_5.so.3 is not a symbolic link\n",
            "\n",
            "/sbin/ldconfig.real: /usr/local/lib/libtcm.so.1 is not a symbolic link\n",
            "\n",
            "/sbin/ldconfig.real: /usr/local/lib/libur_loader.so.0 is not a symbolic link\n",
            "\n",
            "/sbin/ldconfig.real: /usr/local/lib/libhwloc.so.15 is not a symbolic link\n",
            "\n",
            "/sbin/ldconfig.real: /usr/local/lib/libur_adapter_opencl.so.0 is not a symbolic link\n",
            "\n",
            "/sbin/ldconfig.real: /usr/local/lib/libtbbmalloc.so.2 is not a symbolic link\n",
            "\n",
            "/sbin/ldconfig.real: /usr/local/lib/libur_adapter_level_zero.so.0 is not a symbolic link\n",
            "\n",
            "/sbin/ldconfig.real: /usr/local/lib/libumf.so.0 is not a symbolic link\n",
            "\n",
            "/sbin/ldconfig.real: /usr/local/lib/libtbbmalloc_proxy.so.2 is not a symbolic link\n",
            "\n"
          ]
        }
      ]
    },
    {
      "cell_type": "code",
      "source": [
        "!fastqc ./output/*.fastq -o ./fastqc_results/"
      ],
      "metadata": {
        "colab": {
          "base_uri": "https://localhost:8080/"
        },
        "id": "wY-dwhIfpHWN",
        "outputId": "8a3d850a-e7d7-4e93-9a1d-16bdb984a30f"
      },
      "execution_count": 7,
      "outputs": [
        {
          "output_type": "stream",
          "name": "stdout",
          "text": [
            "Started analysis of SRR14065983_1.fastq\n",
            "Approx 5% complete for SRR14065983_1.fastq\n",
            "Approx 10% complete for SRR14065983_1.fastq\n",
            "Approx 15% complete for SRR14065983_1.fastq\n",
            "Approx 20% complete for SRR14065983_1.fastq\n",
            "Approx 25% complete for SRR14065983_1.fastq\n",
            "Approx 30% complete for SRR14065983_1.fastq\n",
            "Approx 35% complete for SRR14065983_1.fastq\n",
            "Approx 40% complete for SRR14065983_1.fastq\n",
            "Approx 45% complete for SRR14065983_1.fastq\n",
            "Approx 50% complete for SRR14065983_1.fastq\n",
            "Approx 55% complete for SRR14065983_1.fastq\n",
            "Approx 60% complete for SRR14065983_1.fastq\n",
            "Approx 65% complete for SRR14065983_1.fastq\n",
            "Approx 70% complete for SRR14065983_1.fastq\n",
            "Approx 75% complete for SRR14065983_1.fastq\n",
            "Approx 80% complete for SRR14065983_1.fastq\n",
            "Approx 85% complete for SRR14065983_1.fastq\n",
            "Approx 90% complete for SRR14065983_1.fastq\n",
            "Approx 95% complete for SRR14065983_1.fastq\n",
            "Analysis complete for SRR14065983_1.fastq\n",
            "Started analysis of SRR14065983_2.fastq\n",
            "Approx 5% complete for SRR14065983_2.fastq\n",
            "Approx 10% complete for SRR14065983_2.fastq\n",
            "Approx 15% complete for SRR14065983_2.fastq\n",
            "Approx 20% complete for SRR14065983_2.fastq\n",
            "Approx 25% complete for SRR14065983_2.fastq\n",
            "Approx 30% complete for SRR14065983_2.fastq\n",
            "Approx 35% complete for SRR14065983_2.fastq\n",
            "Approx 40% complete for SRR14065983_2.fastq\n",
            "Approx 45% complete for SRR14065983_2.fastq\n",
            "Approx 50% complete for SRR14065983_2.fastq\n",
            "Approx 55% complete for SRR14065983_2.fastq\n",
            "Approx 60% complete for SRR14065983_2.fastq\n",
            "Approx 65% complete for SRR14065983_2.fastq\n",
            "Approx 70% complete for SRR14065983_2.fastq\n",
            "Approx 75% complete for SRR14065983_2.fastq\n",
            "Approx 80% complete for SRR14065983_2.fastq\n",
            "Approx 85% complete for SRR14065983_2.fastq\n",
            "Approx 90% complete for SRR14065983_2.fastq\n",
            "Approx 95% complete for SRR14065983_2.fastq\n",
            "Analysis complete for SRR14065983_2.fastq\n",
            "Started analysis of SRR22994913_1.fastq\n",
            "Approx 5% complete for SRR22994913_1.fastq\n",
            "Approx 10% complete for SRR22994913_1.fastq\n",
            "Approx 15% complete for SRR22994913_1.fastq\n",
            "Approx 20% complete for SRR22994913_1.fastq\n",
            "Approx 25% complete for SRR22994913_1.fastq\n",
            "Approx 30% complete for SRR22994913_1.fastq\n",
            "Approx 35% complete for SRR22994913_1.fastq\n",
            "Approx 40% complete for SRR22994913_1.fastq\n",
            "Approx 45% complete for SRR22994913_1.fastq\n",
            "Approx 50% complete for SRR22994913_1.fastq\n",
            "Approx 55% complete for SRR22994913_1.fastq\n",
            "Approx 60% complete for SRR22994913_1.fastq\n",
            "Approx 65% complete for SRR22994913_1.fastq\n",
            "Approx 70% complete for SRR22994913_1.fastq\n",
            "Approx 75% complete for SRR22994913_1.fastq\n",
            "Approx 80% complete for SRR22994913_1.fastq\n",
            "Approx 85% complete for SRR22994913_1.fastq\n",
            "Approx 90% complete for SRR22994913_1.fastq\n",
            "Approx 95% complete for SRR22994913_1.fastq\n",
            "Analysis complete for SRR22994913_1.fastq\n",
            "Started analysis of SRR22994913_2.fastq\n",
            "Approx 5% complete for SRR22994913_2.fastq\n",
            "Approx 10% complete for SRR22994913_2.fastq\n",
            "Approx 15% complete for SRR22994913_2.fastq\n",
            "Approx 20% complete for SRR22994913_2.fastq\n",
            "Approx 25% complete for SRR22994913_2.fastq\n",
            "Approx 30% complete for SRR22994913_2.fastq\n",
            "Approx 35% complete for SRR22994913_2.fastq\n",
            "Approx 40% complete for SRR22994913_2.fastq\n",
            "Approx 45% complete for SRR22994913_2.fastq\n",
            "Approx 50% complete for SRR22994913_2.fastq\n",
            "Approx 55% complete for SRR22994913_2.fastq\n",
            "Approx 60% complete for SRR22994913_2.fastq\n",
            "Approx 65% complete for SRR22994913_2.fastq\n",
            "Approx 70% complete for SRR22994913_2.fastq\n",
            "Approx 75% complete for SRR22994913_2.fastq\n",
            "Approx 80% complete for SRR22994913_2.fastq\n",
            "Approx 85% complete for SRR22994913_2.fastq\n",
            "Approx 90% complete for SRR22994913_2.fastq\n",
            "Approx 95% complete for SRR22994913_2.fastq\n",
            "Analysis complete for SRR22994913_2.fastq\n"
          ]
        }
      ]
    },
    {
      "cell_type": "code",
      "source": [
        "!ls ./fastqc_results/"
      ],
      "metadata": {
        "id": "KY1Wiv03pRWg",
        "colab": {
          "base_uri": "https://localhost:8080/"
        },
        "outputId": "6bf62cb2-943c-43be-b8a2-995fc7f1f789"
      },
      "execution_count": 8,
      "outputs": [
        {
          "output_type": "stream",
          "name": "stdout",
          "text": [
            "SRR14065983_1_fastqc.html  SRR14065983_2_fastqc.zip   SRR22994913_2_fastqc.html\n",
            "SRR14065983_1_fastqc.zip   SRR22994913_1_fastqc.html  SRR22994913_2_fastqc.zip\n",
            "SRR14065983_2_fastqc.html  SRR22994913_1_fastqc.zip\n"
          ]
        }
      ]
    },
    {
      "cell_type": "code",
      "source": [
        "from google.colab import files\n",
        "\n",
        "# Download each HTML report\n",
        "files.download('./fastqc_results/SRR14065983_1_fastqc.html')\n",
        "files.download('./fastqc_results/SRR22994913_1_fastqc.html')"
      ],
      "metadata": {
        "id": "zexuXj6upW9K",
        "colab": {
          "base_uri": "https://localhost:8080/",
          "height": 17
        },
        "outputId": "ee78e59b-e5d2-4e94-fd02-333badcfd1d6"
      },
      "execution_count": 9,
      "outputs": [
        {
          "output_type": "display_data",
          "data": {
            "text/plain": [
              "<IPython.core.display.Javascript object>"
            ],
            "application/javascript": [
              "\n",
              "    async function download(id, filename, size) {\n",
              "      if (!google.colab.kernel.accessAllowed) {\n",
              "        return;\n",
              "      }\n",
              "      const div = document.createElement('div');\n",
              "      const label = document.createElement('label');\n",
              "      label.textContent = `Downloading \"${filename}\": `;\n",
              "      div.appendChild(label);\n",
              "      const progress = document.createElement('progress');\n",
              "      progress.max = size;\n",
              "      div.appendChild(progress);\n",
              "      document.body.appendChild(div);\n",
              "\n",
              "      const buffers = [];\n",
              "      let downloaded = 0;\n",
              "\n",
              "      const channel = await google.colab.kernel.comms.open(id);\n",
              "      // Send a message to notify the kernel that we're ready.\n",
              "      channel.send({})\n",
              "\n",
              "      for await (const message of channel.messages) {\n",
              "        // Send a message to notify the kernel that we're ready.\n",
              "        channel.send({})\n",
              "        if (message.buffers) {\n",
              "          for (const buffer of message.buffers) {\n",
              "            buffers.push(buffer);\n",
              "            downloaded += buffer.byteLength;\n",
              "            progress.value = downloaded;\n",
              "          }\n",
              "        }\n",
              "      }\n",
              "      const blob = new Blob(buffers, {type: 'application/binary'});\n",
              "      const a = document.createElement('a');\n",
              "      a.href = window.URL.createObjectURL(blob);\n",
              "      a.download = filename;\n",
              "      div.appendChild(a);\n",
              "      a.click();\n",
              "      div.remove();\n",
              "    }\n",
              "  "
            ]
          },
          "metadata": {}
        },
        {
          "output_type": "display_data",
          "data": {
            "text/plain": [
              "<IPython.core.display.Javascript object>"
            ],
            "application/javascript": [
              "download(\"download_42932d4f-098e-48fc-a915-76294ddb1837\", \"SRR14065983_1_fastqc.html\", 601872)"
            ]
          },
          "metadata": {}
        },
        {
          "output_type": "display_data",
          "data": {
            "text/plain": [
              "<IPython.core.display.Javascript object>"
            ],
            "application/javascript": [
              "\n",
              "    async function download(id, filename, size) {\n",
              "      if (!google.colab.kernel.accessAllowed) {\n",
              "        return;\n",
              "      }\n",
              "      const div = document.createElement('div');\n",
              "      const label = document.createElement('label');\n",
              "      label.textContent = `Downloading \"${filename}\": `;\n",
              "      div.appendChild(label);\n",
              "      const progress = document.createElement('progress');\n",
              "      progress.max = size;\n",
              "      div.appendChild(progress);\n",
              "      document.body.appendChild(div);\n",
              "\n",
              "      const buffers = [];\n",
              "      let downloaded = 0;\n",
              "\n",
              "      const channel = await google.colab.kernel.comms.open(id);\n",
              "      // Send a message to notify the kernel that we're ready.\n",
              "      channel.send({})\n",
              "\n",
              "      for await (const message of channel.messages) {\n",
              "        // Send a message to notify the kernel that we're ready.\n",
              "        channel.send({})\n",
              "        if (message.buffers) {\n",
              "          for (const buffer of message.buffers) {\n",
              "            buffers.push(buffer);\n",
              "            downloaded += buffer.byteLength;\n",
              "            progress.value = downloaded;\n",
              "          }\n",
              "        }\n",
              "      }\n",
              "      const blob = new Blob(buffers, {type: 'application/binary'});\n",
              "      const a = document.createElement('a');\n",
              "      a.href = window.URL.createObjectURL(blob);\n",
              "      a.download = filename;\n",
              "      div.appendChild(a);\n",
              "      a.click();\n",
              "      div.remove();\n",
              "    }\n",
              "  "
            ]
          },
          "metadata": {}
        },
        {
          "output_type": "display_data",
          "data": {
            "text/plain": [
              "<IPython.core.display.Javascript object>"
            ],
            "application/javascript": [
              "download(\"download_284b2059-694f-4df4-939c-5a574c229f77\", \"SRR22994913_1_fastqc.html\", 564082)"
            ]
          },
          "metadata": {}
        }
      ]
    },
    {
      "cell_type": "code",
      "source": [
        "from google.colab import files\n",
        "\n",
        "# Download each HTML report\n",
        "files.download('./fastqc_results/SRR14065983_1_fastqc.html')\n",
        "files.download('./fastqc_results/SRR22994913_1_fastqc.html')"
      ],
      "metadata": {
        "id": "_d0W8hePprEB",
        "colab": {
          "base_uri": "https://localhost:8080/",
          "height": 17
        },
        "outputId": "4f97fd4e-76bf-4de5-e6c9-6eb150e7eb41"
      },
      "execution_count": 10,
      "outputs": [
        {
          "output_type": "display_data",
          "data": {
            "text/plain": [
              "<IPython.core.display.Javascript object>"
            ],
            "application/javascript": [
              "\n",
              "    async function download(id, filename, size) {\n",
              "      if (!google.colab.kernel.accessAllowed) {\n",
              "        return;\n",
              "      }\n",
              "      const div = document.createElement('div');\n",
              "      const label = document.createElement('label');\n",
              "      label.textContent = `Downloading \"${filename}\": `;\n",
              "      div.appendChild(label);\n",
              "      const progress = document.createElement('progress');\n",
              "      progress.max = size;\n",
              "      div.appendChild(progress);\n",
              "      document.body.appendChild(div);\n",
              "\n",
              "      const buffers = [];\n",
              "      let downloaded = 0;\n",
              "\n",
              "      const channel = await google.colab.kernel.comms.open(id);\n",
              "      // Send a message to notify the kernel that we're ready.\n",
              "      channel.send({})\n",
              "\n",
              "      for await (const message of channel.messages) {\n",
              "        // Send a message to notify the kernel that we're ready.\n",
              "        channel.send({})\n",
              "        if (message.buffers) {\n",
              "          for (const buffer of message.buffers) {\n",
              "            buffers.push(buffer);\n",
              "            downloaded += buffer.byteLength;\n",
              "            progress.value = downloaded;\n",
              "          }\n",
              "        }\n",
              "      }\n",
              "      const blob = new Blob(buffers, {type: 'application/binary'});\n",
              "      const a = document.createElement('a');\n",
              "      a.href = window.URL.createObjectURL(blob);\n",
              "      a.download = filename;\n",
              "      div.appendChild(a);\n",
              "      a.click();\n",
              "      div.remove();\n",
              "    }\n",
              "  "
            ]
          },
          "metadata": {}
        },
        {
          "output_type": "display_data",
          "data": {
            "text/plain": [
              "<IPython.core.display.Javascript object>"
            ],
            "application/javascript": [
              "download(\"download_f675b449-3acd-4df9-8105-dc5a05fc057e\", \"SRR14065983_1_fastqc.html\", 601872)"
            ]
          },
          "metadata": {}
        },
        {
          "output_type": "display_data",
          "data": {
            "text/plain": [
              "<IPython.core.display.Javascript object>"
            ],
            "application/javascript": [
              "\n",
              "    async function download(id, filename, size) {\n",
              "      if (!google.colab.kernel.accessAllowed) {\n",
              "        return;\n",
              "      }\n",
              "      const div = document.createElement('div');\n",
              "      const label = document.createElement('label');\n",
              "      label.textContent = `Downloading \"${filename}\": `;\n",
              "      div.appendChild(label);\n",
              "      const progress = document.createElement('progress');\n",
              "      progress.max = size;\n",
              "      div.appendChild(progress);\n",
              "      document.body.appendChild(div);\n",
              "\n",
              "      const buffers = [];\n",
              "      let downloaded = 0;\n",
              "\n",
              "      const channel = await google.colab.kernel.comms.open(id);\n",
              "      // Send a message to notify the kernel that we're ready.\n",
              "      channel.send({})\n",
              "\n",
              "      for await (const message of channel.messages) {\n",
              "        // Send a message to notify the kernel that we're ready.\n",
              "        channel.send({})\n",
              "        if (message.buffers) {\n",
              "          for (const buffer of message.buffers) {\n",
              "            buffers.push(buffer);\n",
              "            downloaded += buffer.byteLength;\n",
              "            progress.value = downloaded;\n",
              "          }\n",
              "        }\n",
              "      }\n",
              "      const blob = new Blob(buffers, {type: 'application/binary'});\n",
              "      const a = document.createElement('a');\n",
              "      a.href = window.URL.createObjectURL(blob);\n",
              "      a.download = filename;\n",
              "      div.appendChild(a);\n",
              "      a.click();\n",
              "      div.remove();\n",
              "    }\n",
              "  "
            ]
          },
          "metadata": {}
        },
        {
          "output_type": "display_data",
          "data": {
            "text/plain": [
              "<IPython.core.display.Javascript object>"
            ],
            "application/javascript": [
              "download(\"download_f1c2832c-d5b4-4130-838c-ca25eacb64c6\", \"SRR22994913_1_fastqc.html\", 564082)"
            ]
          },
          "metadata": {}
        }
      ]
    },
    {
      "cell_type": "code",
      "source": [
        "from IPython.core.display import display, HTML\n",
        "\n",
        "# Display the FASTQC reports using iframe\n",
        "display(HTML('<iframe src=\"./fastqc_results/SRR14065983_1_fastqc.html\" width=\"100%\" height=\"600px\"></iframe>'))\n",
        "display(HTML('<iframe src=\"./fastqc_results/SRR22994913_fastqc.html\" width=\"100%\" height=\"600px\"></iframe>'))"
      ],
      "metadata": {
        "id": "IAE2iSW_pv0U",
        "colab": {
          "base_uri": "https://localhost:8080/",
          "height": 1000
        },
        "outputId": "d2ccce6c-b4c6-4ea2-fa4d-917df09f74aa"
      },
      "execution_count": 11,
      "outputs": [
        {
          "output_type": "stream",
          "name": "stderr",
          "text": [
            "/usr/local/lib/python3.10/dist-packages/IPython/core/display.py:724: UserWarning: Consider using IPython.display.IFrame instead\n",
            "  warnings.warn(\"Consider using IPython.display.IFrame instead\")\n"
          ]
        },
        {
          "output_type": "display_data",
          "data": {
            "text/plain": [
              "<IPython.core.display.HTML object>"
            ],
            "text/html": [
              "<iframe src=\"./fastqc_results/SRR14065983_1_fastqc.html\" width=\"100%\" height=\"600px\"></iframe>"
            ]
          },
          "metadata": {}
        },
        {
          "output_type": "display_data",
          "data": {
            "text/plain": [
              "<IPython.core.display.HTML object>"
            ],
            "text/html": [
              "<iframe src=\"./fastqc_results/SRR22994913_fastqc.html\" width=\"100%\" height=\"600px\"></iframe>"
            ]
          },
          "metadata": {}
        }
      ]
    },
    {
      "cell_type": "markdown",
      "source": [
        " **TRIMMING OF READS**"
      ],
      "metadata": {
        "id": "9U0S73nMvuOd"
      }
    },
    {
      "cell_type": "code",
      "source": [
        "# Install Fastp if not already installed\n",
        "!apt-get install -y fastp\n",
        "\n",
        "# Run Fastp on SRR22994913_1\n",
        "!fastp -i /content/output/SRR22994913_1.fastq -o /content/SRR22994913_1_trimmed.fastq -q 20 -l 36\n",
        "\n",
        "# Run Fastp on SRR14065983_1\n",
        "!fastp -i /content/output/SRR14065983_2.fastq -o /content/SRR14065983_1_trimmed.fastq -q 20 -l 36\n"
      ],
      "metadata": {
        "id": "cFJ0-aeoKOfy",
        "colab": {
          "base_uri": "https://localhost:8080/"
        },
        "outputId": "10d19160-d589-490a-cd60-ff2677e732c7"
      },
      "execution_count": 12,
      "outputs": [
        {
          "output_type": "stream",
          "name": "stdout",
          "text": [
            "Reading package lists... Done\n",
            "Building dependency tree... Done\n",
            "Reading state information... Done\n",
            "The following NEW packages will be installed:\n",
            "  fastp\n",
            "0 upgraded, 1 newly installed, 0 to remove and 51 not upgraded.\n",
            "Need to get 193 kB of archives.\n",
            "After this operation, 640 kB of additional disk space will be used.\n",
            "Get:1 http://archive.ubuntu.com/ubuntu jammy/universe amd64 fastp amd64 0.20.1+dfsg-1 [193 kB]\n",
            "Fetched 193 kB in 0s (1,008 kB/s)\n",
            "Selecting previously unselected package fastp.\n",
            "(Reading database ... 124572 files and directories currently installed.)\n",
            "Preparing to unpack .../fastp_0.20.1+dfsg-1_amd64.deb ...\n",
            "Unpacking fastp (0.20.1+dfsg-1) ...\n",
            "Setting up fastp (0.20.1+dfsg-1) ...\n",
            "Processing triggers for man-db (2.10.2-1) ...\n",
            "Detecting adapter sequence for read1...\n",
            "No adapter detected for read1\n",
            "\n",
            "Read1 before filtering:\n",
            "total reads: 4041551\n",
            "total bases: 610274201\n",
            "Q20 bases: 601323878(98.5334%)\n",
            "Q30 bases: 583830824(95.667%)\n",
            "\n",
            "Read1 after filtering:\n",
            "total reads: 4038510\n",
            "total bases: 609815010\n",
            "Q20 bases: 601067167(98.5655%)\n",
            "Q30 bases: 583629159(95.7059%)\n",
            "\n",
            "Filtering result:\n",
            "reads passed filter: 4038510\n",
            "reads failed due to low quality: 2867\n",
            "reads failed due to too many N: 174\n",
            "reads failed due to too short: 0\n",
            "reads with adapter trimmed: 0\n",
            "bases trimmed due to adapters: 0\n",
            "\n",
            "Duplication rate (may be overestimated since this is SE data): 37.5159%\n",
            "\n",
            "JSON report: fastp.json\n",
            "HTML report: fastp.html\n",
            "\n",
            "fastp -i /content/output/SRR22994913_1.fastq -o /content/SRR22994913_1_trimmed.fastq -q 20 -l 36 \n",
            "fastp v0.20.1, time used: 51 seconds\n",
            "Detecting adapter sequence for read1...\n",
            ">Illumina TruSeq Adapter Read 2\n",
            "AGATCGGAAGAGCGTCGTGTAGGGAAAGAGTGT\n",
            "\n",
            "Read1 before filtering:\n",
            "total reads: 7851896\n",
            "total bases: 1177784400\n",
            "Q20 bases: 1153532978(97.9409%)\n",
            "Q30 bases: 1107046899(93.994%)\n",
            "\n",
            "Read1 after filtering:\n",
            "total reads: 7833289\n",
            "total bases: 1141201343\n",
            "Q20 bases: 1120409021(98.178%)\n",
            "Q30 bases: 1076638477(94.3426%)\n",
            "\n",
            "Filtering result:\n",
            "reads passed filter: 7833289\n",
            "reads failed due to low quality: 18311\n",
            "reads failed due to too many N: 187\n",
            "reads failed due to too short: 109\n",
            "reads with adapter trimmed: 1593960\n",
            "bases trimmed due to adapters: 33821532\n",
            "\n",
            "Duplication rate (may be overestimated since this is SE data): 50.6916%\n",
            "\n",
            "JSON report: fastp.json\n",
            "HTML report: fastp.html\n",
            "\n",
            "fastp -i /content/output/SRR14065983_2.fastq -o /content/SRR14065983_1_trimmed.fastq -q 20 -l 36 \n",
            "fastp v0.20.1, time used: 119 seconds\n"
          ]
        }
      ]
    },
    {
      "cell_type": "code",
      "source": [
        "# Run FastQC on the trimmed output for SRR22994913_1\n",
        "!fastqc /content/SRR22994913_1_trimmed.fastq -o /content/fastqc_results/\n",
        "\n",
        "# Run FastQC on the trimmed output for SRR14065983_1\n",
        "!fastqc /content/SRR14065983_1_trimmed.fastq -o /content/fastqc_results/\n"
      ],
      "metadata": {
        "id": "aVACQvg3LiSk",
        "colab": {
          "base_uri": "https://localhost:8080/"
        },
        "outputId": "d494a436-fef1-462a-97bd-7a6b94565267"
      },
      "execution_count": 13,
      "outputs": [
        {
          "output_type": "stream",
          "name": "stdout",
          "text": [
            "Started analysis of SRR22994913_1_trimmed.fastq\n",
            "Approx 5% complete for SRR22994913_1_trimmed.fastq\n",
            "Approx 10% complete for SRR22994913_1_trimmed.fastq\n",
            "Approx 15% complete for SRR22994913_1_trimmed.fastq\n",
            "Approx 20% complete for SRR22994913_1_trimmed.fastq\n",
            "Approx 25% complete for SRR22994913_1_trimmed.fastq\n",
            "Approx 30% complete for SRR22994913_1_trimmed.fastq\n",
            "Approx 35% complete for SRR22994913_1_trimmed.fastq\n",
            "Approx 40% complete for SRR22994913_1_trimmed.fastq\n",
            "Approx 45% complete for SRR22994913_1_trimmed.fastq\n",
            "Approx 50% complete for SRR22994913_1_trimmed.fastq\n",
            "Approx 55% complete for SRR22994913_1_trimmed.fastq\n",
            "Approx 60% complete for SRR22994913_1_trimmed.fastq\n",
            "Approx 65% complete for SRR22994913_1_trimmed.fastq\n",
            "Approx 70% complete for SRR22994913_1_trimmed.fastq\n",
            "Approx 75% complete for SRR22994913_1_trimmed.fastq\n",
            "Approx 80% complete for SRR22994913_1_trimmed.fastq\n",
            "Approx 85% complete for SRR22994913_1_trimmed.fastq\n",
            "Approx 90% complete for SRR22994913_1_trimmed.fastq\n",
            "Approx 95% complete for SRR22994913_1_trimmed.fastq\n",
            "Analysis complete for SRR22994913_1_trimmed.fastq\n",
            "Started analysis of SRR14065983_1_trimmed.fastq\n",
            "Approx 5% complete for SRR14065983_1_trimmed.fastq\n",
            "Approx 10% complete for SRR14065983_1_trimmed.fastq\n",
            "Approx 15% complete for SRR14065983_1_trimmed.fastq\n",
            "Approx 20% complete for SRR14065983_1_trimmed.fastq\n",
            "Approx 25% complete for SRR14065983_1_trimmed.fastq\n",
            "Approx 30% complete for SRR14065983_1_trimmed.fastq\n",
            "Approx 35% complete for SRR14065983_1_trimmed.fastq\n",
            "Approx 40% complete for SRR14065983_1_trimmed.fastq\n",
            "Approx 45% complete for SRR14065983_1_trimmed.fastq\n",
            "Approx 50% complete for SRR14065983_1_trimmed.fastq\n",
            "Approx 55% complete for SRR14065983_1_trimmed.fastq\n",
            "Approx 65% complete for SRR14065983_1_trimmed.fastq\n",
            "Approx 70% complete for SRR14065983_1_trimmed.fastq\n",
            "Approx 75% complete for SRR14065983_1_trimmed.fastq\n",
            "Approx 80% complete for SRR14065983_1_trimmed.fastq\n",
            "Approx 85% complete for SRR14065983_1_trimmed.fastq\n",
            "Approx 90% complete for SRR14065983_1_trimmed.fastq\n",
            "Approx 95% complete for SRR14065983_1_trimmed.fastq\n",
            "Analysis complete for SRR14065983_1_trimmed.fastq\n"
          ]
        }
      ]
    },
    {
      "cell_type": "code",
      "source": [
        "from IPython.display import IFrame\n",
        "\n",
        "# Display FastQC report for trimmed SRR22994913_1\n",
        "IFrame('/content/fastqc_results/SRR22994913_1_trimmed_fastqc/fastqc_report.html', width=800, height=600)\n",
        "\n",
        "# Display FastQC report for trimmed SRR14065983_1\n",
        "IFrame('/content/fastqc_results/SRR14065983_1_trimmed_fastqc/fastqc_report.html', width=800, height=600)\n"
      ],
      "metadata": {
        "id": "p3eZZEPqLrjv",
        "colab": {
          "base_uri": "https://localhost:8080/",
          "height": 622
        },
        "outputId": "66498f57-e0c8-4b48-a062-355f6d22addb"
      },
      "execution_count": 14,
      "outputs": [
        {
          "output_type": "execute_result",
          "data": {
            "text/plain": [
              "<IPython.lib.display.IFrame at 0x7804b9d852a0>"
            ],
            "text/html": [
              "\n",
              "        <iframe\n",
              "            width=\"800\"\n",
              "            height=\"600\"\n",
              "            src=\"/content/fastqc_results/SRR14065983_1_trimmed_fastqc/fastqc_report.html\"\n",
              "            frameborder=\"0\"\n",
              "            allowfullscreen\n",
              "            \n",
              "        ></iframe>\n",
              "        "
            ]
          },
          "metadata": {},
          "execution_count": 14
        }
      ]
    },
    {
      "cell_type": "markdown",
      "source": [
        "**COMPRESSING THE FILE AS IT IS TOO LARGE**"
      ],
      "metadata": {
        "id": "eR_NFrn-hfU_"
      }
    },
    {
      "cell_type": "code",
      "source": [
        "!gzip /content/SRR22994913_1_trimmed.fastq\n"
      ],
      "metadata": {
        "id": "F66ueqt4TBCq"
      },
      "execution_count": 17,
      "outputs": []
    },
    {
      "cell_type": "code",
      "source": [
        "from google.colab import files\n",
        "files.download('/content/SRR22994913_1_trimmed.fastq.gz')\n",
        "\n"
      ],
      "metadata": {
        "colab": {
          "base_uri": "https://localhost:8080/",
          "height": 34
        },
        "id": "1Zv3z9RtTIDk",
        "outputId": "8a519f94-1683-4c3d-e0c4-6fd5725a9d86"
      },
      "execution_count": 18,
      "outputs": [
        {
          "output_type": "display_data",
          "data": {
            "text/plain": [
              "<IPython.core.display.Javascript object>"
            ],
            "application/javascript": [
              "\n",
              "    async function download(id, filename, size) {\n",
              "      if (!google.colab.kernel.accessAllowed) {\n",
              "        return;\n",
              "      }\n",
              "      const div = document.createElement('div');\n",
              "      const label = document.createElement('label');\n",
              "      label.textContent = `Downloading \"${filename}\": `;\n",
              "      div.appendChild(label);\n",
              "      const progress = document.createElement('progress');\n",
              "      progress.max = size;\n",
              "      div.appendChild(progress);\n",
              "      document.body.appendChild(div);\n",
              "\n",
              "      const buffers = [];\n",
              "      let downloaded = 0;\n",
              "\n",
              "      const channel = await google.colab.kernel.comms.open(id);\n",
              "      // Send a message to notify the kernel that we're ready.\n",
              "      channel.send({})\n",
              "\n",
              "      for await (const message of channel.messages) {\n",
              "        // Send a message to notify the kernel that we're ready.\n",
              "        channel.send({})\n",
              "        if (message.buffers) {\n",
              "          for (const buffer of message.buffers) {\n",
              "            buffers.push(buffer);\n",
              "            downloaded += buffer.byteLength;\n",
              "            progress.value = downloaded;\n",
              "          }\n",
              "        }\n",
              "      }\n",
              "      const blob = new Blob(buffers, {type: 'application/binary'});\n",
              "      const a = document.createElement('a');\n",
              "      a.href = window.URL.createObjectURL(blob);\n",
              "      a.download = filename;\n",
              "      div.appendChild(a);\n",
              "      a.click();\n",
              "      div.remove();\n",
              "    }\n",
              "  "
            ]
          },
          "metadata": {}
        },
        {
          "output_type": "display_data",
          "data": {
            "text/plain": [
              "<IPython.core.display.Javascript object>"
            ],
            "application/javascript": [
              "download(\"download_d96793e7-13c3-4378-b7e6-83d15032791c\", \"SRR22994913_1_trimmed.fastq.gz\", 298116723)"
            ]
          },
          "metadata": {}
        }
      ]
    },
    {
      "cell_type": "code",
      "source": [
        "# Compress the file\n",
        "!gzip /content/SRR14065983_1_trimmed.fastq\n"
      ],
      "metadata": {
        "id": "zKnkdnkPHuIL"
      },
      "execution_count": 19,
      "outputs": []
    },
    {
      "cell_type": "markdown",
      "source": [
        "**SENDING FILE TO GOOGLE DRIVE FOR EASY DOWNLOAD**"
      ],
      "metadata": {
        "id": "BZWdeqf5hudx"
      }
    },
    {
      "cell_type": "code",
      "source": [
        "from google.colab import files\n",
        "files.download('/content/SRR14065983_1_trimmed.fastq.gz')\n"
      ],
      "metadata": {
        "colab": {
          "base_uri": "https://localhost:8080/",
          "height": 17
        },
        "id": "52MSltvnHzFO",
        "outputId": "51fdfc56-79af-4757-efb9-5321c78ee2d3"
      },
      "execution_count": 20,
      "outputs": [
        {
          "output_type": "display_data",
          "data": {
            "text/plain": [
              "<IPython.core.display.Javascript object>"
            ],
            "application/javascript": [
              "\n",
              "    async function download(id, filename, size) {\n",
              "      if (!google.colab.kernel.accessAllowed) {\n",
              "        return;\n",
              "      }\n",
              "      const div = document.createElement('div');\n",
              "      const label = document.createElement('label');\n",
              "      label.textContent = `Downloading \"${filename}\": `;\n",
              "      div.appendChild(label);\n",
              "      const progress = document.createElement('progress');\n",
              "      progress.max = size;\n",
              "      div.appendChild(progress);\n",
              "      document.body.appendChild(div);\n",
              "\n",
              "      const buffers = [];\n",
              "      let downloaded = 0;\n",
              "\n",
              "      const channel = await google.colab.kernel.comms.open(id);\n",
              "      // Send a message to notify the kernel that we're ready.\n",
              "      channel.send({})\n",
              "\n",
              "      for await (const message of channel.messages) {\n",
              "        // Send a message to notify the kernel that we're ready.\n",
              "        channel.send({})\n",
              "        if (message.buffers) {\n",
              "          for (const buffer of message.buffers) {\n",
              "            buffers.push(buffer);\n",
              "            downloaded += buffer.byteLength;\n",
              "            progress.value = downloaded;\n",
              "          }\n",
              "        }\n",
              "      }\n",
              "      const blob = new Blob(buffers, {type: 'application/binary'});\n",
              "      const a = document.createElement('a');\n",
              "      a.href = window.URL.createObjectURL(blob);\n",
              "      a.download = filename;\n",
              "      div.appendChild(a);\n",
              "      a.click();\n",
              "      div.remove();\n",
              "    }\n",
              "  "
            ]
          },
          "metadata": {}
        },
        {
          "output_type": "display_data",
          "data": {
            "text/plain": [
              "<IPython.core.display.Javascript object>"
            ],
            "application/javascript": [
              "download(\"download_b77e627a-a31a-40be-916a-c28396a5cc9e\", \"SRR14065983_1_trimmed.fastq.gz\", 521083352)"
            ]
          },
          "metadata": {}
        }
      ]
    },
    {
      "cell_type": "code",
      "source": [
        "from google.colab import drive\n",
        "drive.mount('/content/drive')\n"
      ],
      "metadata": {
        "colab": {
          "base_uri": "https://localhost:8080/"
        },
        "id": "U2HSHQhdIEPb",
        "outputId": "2a9107cf-8989-45f4-c985-1086c2062826"
      },
      "execution_count": 21,
      "outputs": [
        {
          "output_type": "stream",
          "name": "stdout",
          "text": [
            "Drive already mounted at /content/drive; to attempt to forcibly remount, call drive.mount(\"/content/drive\", force_remount=True).\n"
          ]
        }
      ]
    },
    {
      "cell_type": "code",
      "source": [
        "!cp /content/SRR22994913_1_trimmed.fastq.gz /content/drive/MyDrive/\n"
      ],
      "metadata": {
        "id": "SXwfHYklVaud"
      },
      "execution_count": 22,
      "outputs": []
    },
    {
      "cell_type": "code",
      "source": [
        "!cp /content/SRR14065983_1_trimmed.fastq.gz /content/drive/MyDrive/\n"
      ],
      "metadata": {
        "id": "zSeVLX1yVi_b"
      },
      "execution_count": 23,
      "outputs": []
    }
  ]
}